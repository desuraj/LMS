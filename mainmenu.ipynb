{
 "cells": [
  {
   "cell_type": "code",
   "execution_count": null,
   "metadata": {},
   "outputs": [],
   "source": [
    "\n",
    "from studentclass import*\n",
    "from adminclass import*\n",
    "from facultyclass import*\n",
    "\n",
    "\n",
    "def LogInmenu():\n",
    "    print(\"******************** Well Come To SISTec Library Management System *************************\\n\")\n",
    "    while True:\n",
    "        op = int(input(\"Enter Option\\n1 For LogIn As Student\\n2 For LogIn as Faculty\\n3 for LogIn as Librarian\\n0 for exit\\n\"))\n",
    "        if op == 1:\n",
    "            s=Student()\n",
    "            s.studentlogin()\n",
    "            break\n",
    "            \n",
    "        elif op == 2:\n",
    "            f=Faculty()\n",
    "            f.facultylogin()\n",
    "            break\n",
    "            \n",
    "        elif op == 3:\n",
    "            a=Admin()\n",
    "            a.adminlogin()\n",
    "        elif op ==  0:\n",
    "            break\n",
    "        else:\n",
    "            print(\"__________Not Valid_________\")\n",
    "            \n",
    "LogInmenu()"
   ]
  }
 ],
 "metadata": {
  "kernelspec": {
   "display_name": "Python 3",
   "language": "python",
   "name": "python3"
  },
  "language_info": {
   "codemirror_mode": {
    "name": "ipython",
    "version": 3
   },
   "file_extension": ".py",
   "mimetype": "text/x-python",
   "name": "python",
   "nbconvert_exporter": "python",
   "pygments_lexer": "ipython3",
   "version": "3.7.1"
  }
 },
 "nbformat": 4,
 "nbformat_minor": 2
}
